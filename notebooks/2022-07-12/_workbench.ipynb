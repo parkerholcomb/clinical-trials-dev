{
 "cells": [
  {
   "cell_type": "code",
   "execution_count": 3,
   "metadata": {},
   "outputs": [
    {
     "ename": "ModuleNotFoundError",
     "evalue": "No module named 'pandas'",
     "output_type": "error",
     "traceback": [
      "\u001b[0;31m---------------------------------------------------------------------------\u001b[0m",
      "\u001b[0;31mModuleNotFoundError\u001b[0m                       Traceback (most recent call last)",
      "\u001b[1;32m/Users/parker/Development/clinical-trials-dev/notebooks/2022-07-12/_work.ipynb Cell 1\u001b[0m in \u001b[0;36m<cell line: 4>\u001b[0;34m()\u001b[0m\n\u001b[1;32m      <a href='vscode-notebook-cell:/Users/parker/Development/clinical-trials-dev/notebooks/2022-07-12/_work.ipynb#ch0000000?line=0'>1</a>\u001b[0m \u001b[39m# from src.ctgov.lib.helpers import protocol_query\u001b[39;00m\n\u001b[1;32m      <a href='vscode-notebook-cell:/Users/parker/Development/clinical-trials-dev/notebooks/2022-07-12/_work.ipynb#ch0000000?line=1'>2</a>\u001b[0m \u001b[39m# from src.ct\u001b[39;00m\n\u001b[0;32m----> <a href='vscode-notebook-cell:/Users/parker/Development/clinical-trials-dev/notebooks/2022-07-12/_work.ipynb#ch0000000?line=3'>4</a>\u001b[0m \u001b[39mfrom\u001b[39;00m \u001b[39msrc\u001b[39;00m\u001b[39m.\u001b[39;00m\u001b[39mctgov\u001b[39;00m\u001b[39m.\u001b[39;00m\u001b[39mlib\u001b[39;00m\u001b[39m.\u001b[39;00m\u001b[39mhelpers\u001b[39;00m \u001b[39mimport\u001b[39;00m protocol_query\n",
      "File \u001b[0;32m~/Development/clinical-trials-dev/src/ctgov/lib/helpers.py:2\u001b[0m, in \u001b[0;36m<module>\u001b[0;34m\u001b[0m\n\u001b[1;32m      1\u001b[0m \u001b[39mimport\u001b[39;00m \u001b[39mjson\u001b[39;00m\n\u001b[0;32m----> 2\u001b[0m \u001b[39mimport\u001b[39;00m \u001b[39mpandas\u001b[39;00m \u001b[39mas\u001b[39;00m \u001b[39mpd\u001b[39;00m\n\u001b[1;32m      3\u001b[0m \u001b[39mfrom\u001b[39;00m \u001b[39mscipy\u001b[39;00m\u001b[39m.\u001b[39;00m\u001b[39mstats\u001b[39;00m \u001b[39mimport\u001b[39;00m zscore\n\u001b[1;32m      4\u001b[0m \u001b[39mfrom\u001b[39;00m \u001b[39mglob\u001b[39;00m \u001b[39mimport\u001b[39;00m glob\n",
      "\u001b[0;31mModuleNotFoundError\u001b[0m: No module named 'pandas'"
     ]
    }
   ],
   "source": [
    "# from src.ctgov.lib.helpers import protocol_query\n",
    "# from src.ct\n",
    "\n",
    "from src.ctgov.lib.helpers import protocol_query"
   ]
  }
 ],
 "metadata": {
  "kernelspec": {
   "display_name": "Python 3.9.7 ('.venv': venv)",
   "language": "python",
   "name": "python3"
  },
  "language_info": {
   "codemirror_mode": {
    "name": "ipython",
    "version": 3
   },
   "file_extension": ".py",
   "mimetype": "text/x-python",
   "name": "python",
   "nbconvert_exporter": "python",
   "pygments_lexer": "ipython3",
   "version": "3.9.7"
  },
  "orig_nbformat": 4,
  "vscode": {
   "interpreter": {
    "hash": "436d98c147e6683a64903db0337b2b91b7d9ad9de40f93b0dff93d940f75dff2"
   }
  }
 },
 "nbformat": 4,
 "nbformat_minor": 2
}
